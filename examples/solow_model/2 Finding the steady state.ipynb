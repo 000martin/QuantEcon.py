{
 "metadata": {
  "name": "",
  "signature": "sha256:234c36dc3c487c49fc1b553f104647ddd00b8cb1c3ca4022328c0f301199fd25"
 },
 "nbformat": 3,
 "nbformat_minor": 0,
 "worksheets": [
  {
   "cells": [
    {
     "cell_type": "code",
     "collapsed": false,
     "input": [
      "%matplotlib inline"
     ],
     "language": "python",
     "metadata": {},
     "outputs": [],
     "prompt_number": 1
    },
    {
     "cell_type": "markdown",
     "metadata": {},
     "source": [
      "# 2. Computing the steady state\n",
      "\n",
      "Traditionally, most analysis of the Solow model focuses almost excusively on the long run steady state of the model. Recall that the steady state of the Solow model is the value of capital stock (per unit effective labor) that solves\n",
      "\n",
      "$$ 0 = sf(k^*) - (g + n + \\delta)k^*. \\tag{2.0.1} $$\n",
      "\n",
      "In words: in the long-run, capital stock (per unit effective labor) converges to the value that balances actual investment, $sf(k)$, with effective depreciation, $(g + n + \\delta)$. Given the assumption made about the aggregate production technology, $F$, and its intensive form, $f$, there is always a unique value $k^* >0$ satisfying equation 2.0.1."
     ]
    },
    {
     "cell_type": "markdown",
     "metadata": {},
     "source": [
      "## 2.1 Analytic results\n",
      "For many (all?) of the commonly used functional forms for $F$ one can easily derive a closed-form expression for the steady state value of capital stock (per unit effective labor). For example, assuming $F$ is Cobb-Douglas, the analytical solution for $k^*$ is\n",
      "\n",
      "$$ k^* = \\left(\\frac{s}{n+g+\\delta}\\right)^{\\frac{1}{1-\\alpha}} \\tag{2.1.0} $$\n",
      "\n",
      "This analytic solution is available via the `analytic_steady_state` class method in the `solow.cobb_douglas` module."
     ]
    },
    {
     "cell_type": "code",
     "collapsed": false,
     "input": [
      "# check the docstring...\n",
      "solow.cobb_douglas.analytic_steady_state?"
     ],
     "language": "python",
     "metadata": {},
     "outputs": [],
     "prompt_number": 13
    },
    {
     "cell_type": "code",
     "collapsed": false,
     "input": [
      "#... inspect the source code \n",
      "solow.cobb_douglas.analytic_steady_state??"
     ],
     "language": "python",
     "metadata": {},
     "outputs": [],
     "prompt_number": 15
    },
    {
     "cell_type": "markdown",
     "metadata": {},
     "source": [
      "We can compute the analytic solution for $k^*$ by passing a `CobbDouglasModel` instance as an argument to the `analytic_steady_state` function."
     ]
    },
    {
     "cell_type": "code",
     "collapsed": false,
     "input": [
      "solow.cobb_douglas.analytic_steady_state(cobb_douglas_model)"
     ],
     "language": "python",
     "metadata": {},
     "outputs": [
      {
       "metadata": {},
       "output_type": "pyout",
       "prompt_number": 12,
       "text": [
        "1.8315668508047822"
       ]
      }
     ],
     "prompt_number": 12
    },
    {
     "cell_type": "markdown",
     "metadata": {},
     "source": [
      "The steady state result is also available as an attribute of the `solow.Model` class."
     ]
    },
    {
     "cell_type": "code",
     "collapsed": false,
     "input": [
      "model.steady_state"
     ],
     "language": "python",
     "metadata": {},
     "outputs": [
      {
       "metadata": {},
       "output_type": "pyout",
       "prompt_number": 13,
       "text": [
        "1.8315668508047265"
       ]
      }
     ],
     "prompt_number": 13
    },
    {
     "cell_type": "markdown",
     "metadata": {},
     "source": [
      "## 2.2 Numerical methods\n",
      "Although it is trivial to derive an analytic expression for the long-run equilibrium of the Solow model for most intensive production functions, the Solow model serves as a good illustrative case for various numerical methods for solving non-linear equations.\n",
      "\n",
      "The `solow.Model.find_steady_state` method provides a simple interface to the various 1D root finding routines available in `scipy.optimize` and uses them to solve the non-linear equation 2.0.1. To see the list of currently supported methods, check out the docstring for the `Model.find_steady_state` method..."
     ]
    },
    {
     "cell_type": "code",
     "collapsed": false,
     "input": [
      "model.find_steady_state?"
     ],
     "language": "python",
     "metadata": {},
     "outputs": [],
     "prompt_number": 14
    },
    {
     "cell_type": "markdown",
     "metadata": {},
     "source": [
      "### Example usage\n",
      "Guessing that the true steady state value lies somewhere between `1e-6` and `1e6`, compute the steady state value of capital stock (per unit effective labor) using the bisection method. "
     ]
    },
    {
     "cell_type": "code",
     "collapsed": false,
     "input": [
      "k_star, result = model.find_steady_state(1e-6, 1e6, method='bisect', full_output=True)"
     ],
     "language": "python",
     "metadata": {},
     "outputs": [],
     "prompt_number": 6
    },
    {
     "cell_type": "markdown",
     "metadata": {},
     "source": [
      "We can display the value and confirm that the algorithm did indeed converge as follows."
     ]
    },
    {
     "cell_type": "code",
     "collapsed": false,
     "input": [
      "print(\"The steady-state value is {}\".format(k_star))\n",
      "print(\"Did the bisection algorithm coverge? {}\".format(result.converged))"
     ],
     "language": "python",
     "metadata": {},
     "outputs": [
      {
       "output_type": "stream",
       "stream": "stdout",
       "text": [
        "The steady-state value is 1.83156685054\n",
        "Did the bisection algorithm coverge? True\n"
       ]
      }
     ],
     "prompt_number": 7
    },
    {
     "cell_type": "markdown",
     "metadata": {},
     "source": [
      "### 2.1.1 Comparing the various methods\n",
      "The various methods, for the most part, are equally accurate..."
     ]
    },
    {
     "cell_type": "code",
     "collapsed": false,
     "input": [
      "valid_methods = ['brenth', 'brentq', 'ridder', 'bisect']\n",
      "\n",
      "for method in valid_methods:\n",
      "    actual_ss = model.find_steady_state(1e-6, 1e6, method=method)\n",
      "    expected_ss = solow.cobb_douglas.analytic_steady_state(cobb_douglas_model)\n",
      "\n",
      "    print(\"Steady state value computed using {} is {}\".format(method, actual_ss)) \n",
      "    print(\"Absolute error in is {}\\n\".format(abs(actual_ss - expected_ss)))"
     ],
     "language": "python",
     "metadata": {},
     "outputs": [
      {
       "output_type": "stream",
       "stream": "stdout",
       "text": [
        "Steady state value computed using brenth is 1.8315668508\n",
        "Absolute error in is 0.0\n",
        "\n",
        "Steady state value computed using brentq is 1.8315668508\n",
        "Absolute error in is 0.0\n",
        "\n",
        "Steady state value computed using ridder is 1.83156685093\n",
        "Absolute error in is 1.26039179094e-10\n",
        "\n",
        "Steady state value computed using bisect is 1.83156685054\n",
        "Absolute error in is 2.65830024659e-10\n",
        "\n"
       ]
      }
     ],
     "prompt_number": 11
    },
    {
     "cell_type": "markdown",
     "metadata": {},
     "source": [
      "...however the `brentq` and `brenth` routines are generally more efficient."
     ]
    },
    {
     "cell_type": "code",
     "collapsed": false,
     "input": [
      "valid_methods = ['brenth', 'brentq', 'ridder', 'bisect']\n",
      "\n",
      "for method in valid_methods:\n",
      "    print(\"Profiling results using {}:\".format(method)) \n",
      "    %timeit -n 1 -r 3 model.find_steady_state(1e-6, 1e6, method=method)\n",
      "    print(\"\")"
     ],
     "language": "python",
     "metadata": {},
     "outputs": [
      {
       "output_type": "stream",
       "stream": "stdout",
       "text": [
        "Profiling results using brenth:\n",
        "1 loops, best of 3: 58.2 \u00b5s per loop\n",
        "\n",
        "Profiling results using brentq:\n",
        "1 loops, best of 3: 88.9 \u00b5s per loop\n",
        "\n",
        "Profiling results using ridder:\n",
        "1 loops, best of 3: 280 \u00b5s per loop\n",
        "\n",
        "Profiling results using bisect:\n",
        "1 loops, best of 3: 336 \u00b5s per loop\n",
        "\n"
       ]
      }
     ],
     "prompt_number": 12
    },
    {
     "cell_type": "markdown",
     "metadata": {},
     "source": [
      "While the bisection method tends to be slow (relative to other methods), so long as the user brackets the true steady state value, it is guranteed to converge. Using numerical methods to solve for the steady state of the Solow model illustrates a trade-off between robustness (i.e., guaranteed convergence) and computational efficiency (i.e., speed) that is commonly encountered in numerical work."
     ]
    },
    {
     "cell_type": "code",
     "collapsed": false,
     "input": [],
     "language": "python",
     "metadata": {},
     "outputs": []
    }
   ],
   "metadata": {}
  }
 ]
}