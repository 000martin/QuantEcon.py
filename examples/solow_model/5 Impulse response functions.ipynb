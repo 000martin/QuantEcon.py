{
 "metadata": {
  "name": "",
  "signature": "sha256:d19b19aa5b5dc8db610199895b0af87c1dfbe8708c416e5c0aa8f2fc873fae4d"
 },
 "nbformat": 3,
 "nbformat_minor": 0,
 "worksheets": [
  {
   "cells": [
    {
     "cell_type": "markdown",
     "metadata": {},
     "source": [
      "<div align='center' ><img src='https://raw.githubusercontent.com/davidrpugh/numerical-methods/master/images/sgpe-logo.jpg' width=\"1200\" height=\"100\"></div>\n",
      "<div align='right'><img src='https://raw.githubusercontent.com/davidrpugh/numerical-methods/master/images/SIRElogolweb.jpg' width=\"1200\" height=\"100\"></div>"
     ]
    },
    {
     "cell_type": "code",
     "collapsed": false,
     "input": [
      "%matplotlib inline"
     ],
     "language": "python",
     "metadata": {},
     "outputs": [],
     "prompt_number": 1
    },
    {
     "cell_type": "code",
     "collapsed": false,
     "input": [
      "%load_ext autoreload"
     ],
     "language": "python",
     "metadata": {},
     "outputs": [],
     "prompt_number": 2
    },
    {
     "cell_type": "code",
     "collapsed": false,
     "input": [
      "autoreload 2"
     ],
     "language": "python",
     "metadata": {},
     "outputs": [],
     "prompt_number": 3
    },
    {
     "cell_type": "code",
     "collapsed": false,
     "input": [
      "import matplotlib.pyplot as plt\n",
      "import numpy as np\n",
      "import pandas as pd\n",
      "import sympy as sym\n",
      "\n",
      "from quantecon.models import solow"
     ],
     "language": "python",
     "metadata": {},
     "outputs": [],
     "prompt_number": 4
    },
    {
     "cell_type": "code",
     "collapsed": false,
     "input": [
      "# define model parameters\n",
      "ces_params = {'A0': 1.0, 'L0': 1.0, 'g': 0.02, 'n': 0.03, 's': 0.15,\n",
      "              'delta': 0.05, 'alpha': 0.33, 'sigma': 1.01}\n",
      "\n",
      "# create an instance of the solow.Model class\n",
      "ces_model = solow.CESModel(params=ces_params)"
     ],
     "language": "python",
     "metadata": {},
     "outputs": [],
     "prompt_number": 5
    },
    {
     "cell_type": "markdown",
     "metadata": {},
     "source": [
      "# 5. Impulse response functions\n",
      "\n",
      "Impulse response functions are a standard tool for analyzing the short run dynamics of dynamic macroeconomic models such as the Solow growth model. The `solow.impulse_response.ImpulseResponse` class has several attributes and methods for generating and analyzing impulse response functions."
     ]
    },
    {
     "cell_type": "code",
     "collapsed": false,
     "input": [
      "# use tab completion to see the available attributes and methods...\n",
      "solow.impulse_response.ImpulseResponse."
     ],
     "language": "python",
     "metadata": {},
     "outputs": [],
     "prompt_number": 6
    },
    {
     "cell_type": "markdown",
     "metadata": {},
     "source": [
      "The `solow.Model` class has an `irf` attribute that is an instance of the `solow.impulse_response.ImpulseResonse` class. The `irf` attribute provides access to all of the methods..."
     ]
    },
    {
     "cell_type": "markdown",
     "metadata": {},
     "source": [
      "### Impact of a change in the savings rate"
     ]
    },
    {
     "cell_type": "code",
     "collapsed": false,
     "input": [
      "# 100% increase in the current savings rate...\n",
      "ces_model.irf.impulse = {'s': 2.0 * ces_model.params['s']}\n",
      "\n",
      "# in efficiency units...\n",
      "ces_model.irf.kind = 'efficiency_units'"
     ],
     "language": "python",
     "metadata": {},
     "outputs": [],
     "prompt_number": 7
    },
    {
     "cell_type": "markdown",
     "metadata": {},
     "source": [
      "Take a look at the IRF for the savings rate shock. Note that while capital and output are unaffected at the `t=0`, both consumption and investment jump (in opposite directions!) in response to the change in the savings rate."
     ]
    },
    {
     "cell_type": "code",
     "collapsed": false,
     "input": [
      "# take a look at the impulse reponse\n",
      "print(ces_model.irf.impulse_response[:25,])"
     ],
     "language": "python",
     "metadata": {},
     "outputs": [
      {
       "output_type": "stream",
       "stream": "stdout",
       "text": [
        "[[-10.           1.83266593   1.01790206   0.86521675   0.15268531]\n",
        " [ -9.           1.83266593   1.01790206   0.86521675   0.15268531]\n",
        " [ -8.           1.83266593   1.01790206   0.86521675   0.15268531]\n",
        " [ -7.           1.83266593   1.01790206   0.86521675   0.15268531]\n",
        " [ -6.           1.83266593   1.01790206   0.86521675   0.15268531]\n",
        " [ -5.           1.83266593   1.01790206   0.86521675   0.15268531]\n",
        " [ -4.           1.83266593   1.01790206   0.86521675   0.15268531]\n",
        " [ -3.           1.83266593   1.01790206   0.86521675   0.15268531]\n",
        " [ -2.           1.83266593   1.01790206   0.86521675   0.15268531]\n",
        " [ -1.           1.83266593   1.01790206   0.86521675   0.15268531]\n",
        " [  0.           1.83266593   1.01790206   0.71253144   0.30537062]\n",
        " [  1.           2.01275138   1.01922107   0.71345475   0.30576632]\n",
        " [  2.           2.18618199   1.02019651   0.71413756   0.30605895]\n",
        " [  3.           2.35264866   1.0209374    0.71465618   0.30628122]\n",
        " [  4.           2.51198357   1.02151299   0.71505909   0.3064539 ]\n",
        " [  5.           2.66412817   1.02196888   0.71537822   0.30659066]\n",
        " [  6.           2.80910835   1.02233603   0.71563522   0.30670081]\n",
        " [  7.           2.94701497   1.02263603   0.71584522   0.30679081]\n",
        " [  8.           3.07798847   1.02288428   0.716019     0.30686528]\n",
        " [  9.           3.20220659   1.02309202   0.71616442   0.30692761]\n",
        " [ 10.           3.31987457   1.02326759   0.71628731   0.30698028]\n",
        " [ 11.           3.43121733   1.02341728   0.7163921    0.30702518]\n",
        " [ 12.           3.53647313   1.02354592   0.71648214   0.30706378]\n",
        " [ 13.           3.63588855   1.02365724   0.71656007   0.30709717]\n",
        " [ 14.           3.72971448   1.0237542    0.71662794   0.30712626]]\n"
       ]
      }
     ],
     "prompt_number": 9
    },
    {
     "cell_type": "markdown",
     "metadata": {},
     "source": [
      "Typically, one wants to plot the impulse response functions..."
     ]
    },
    {
     "cell_type": "code",
     "collapsed": false,
     "input": [
      "ces_model.irf.plot_impulse_response?"
     ],
     "language": "python",
     "metadata": {},
     "outputs": [],
     "prompt_number": 9
    },
    {
     "cell_type": "code",
     "collapsed": false,
     "input": [
      "# define the shock\n",
      "fig, ax = plt.subplots(1, 1, figsize=(8,6))\n",
      "ces_model.irf.plot_impulse_response(ax, variable='consumption')\n",
      "plt.show()"
     ],
     "language": "python",
     "metadata": {},
     "outputs": [
      {
       "metadata": {},
       "output_type": "display_data",
       "png": "[encoded data removed]",
       "text": [
        "<matplotlib.figure.Figure at 0x109ca2f10>"
       ]
      }
     ],
     "prompt_number": 10
    },
    {
     "cell_type": "markdown",
     "metadata": {},
     "source": [
      "Want to allow for fairly general shocks. For example, suppose that an exogenous 5% increase in the growth rate of technology was accompanied by a simultaneous 10% fall in the savings rate."
     ]
    },
    {
     "cell_type": "markdown",
     "metadata": {},
     "source": [
      "We can use IPython widgets to analyze the various impact on model variables by a shock"
     ]
    },
    {
     "cell_type": "code",
     "collapsed": false,
     "input": [
      "def interactive_impulse_response(model, shock, param, variable, kind):\n",
      "    \"\"\"Interactive impulse response plotting tool.\"\"\"\n",
      "    # specify the impulse response\n",
      "    model.irf.impulse = {parameter: shock * model.params[param]}\n",
      "    model.irf.kind = kind\n",
      "    \n",
      "    fig, ax = plt.subplots(1, 1, figsize=(8,6))\n",
      "    model.irf.plot_impulse_response\n",
      "    \n",
      "shock = {'s': 1.05 * model.params['s']}\n",
      "\n",
      "irf_widget = interact(solow.impulse_response.plot_impulse_response, \n",
      "                      cls=fixed(model),\n",
      "                      variable=['capital', 'output', 'consumption', 'investment'],\n",
      "                      impulse=fixed(shock),\n",
      "                      kind=['efficiency_units', 'per_capita', 'levels'],\n",
      "                      )"
     ],
     "language": "python",
     "metadata": {},
     "outputs": [
      {
       "metadata": {},
       "output_type": "display_data",
       "png": "[encoded data removed]",
       "text": [
        "<matplotlib.figure.Figure at 0x109a90590>"
       ]
      }
     ],
     "prompt_number": 39
    },
    {
     "cell_type": "code",
     "collapsed": false,
     "input": [],
     "language": "python",
     "metadata": {},
     "outputs": []
    }
   ],
   "metadata": {}
  }
 ]
}