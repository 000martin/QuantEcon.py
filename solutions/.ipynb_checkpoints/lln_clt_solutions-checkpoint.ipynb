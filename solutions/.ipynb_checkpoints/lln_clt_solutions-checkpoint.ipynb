{
 "metadata": {
  "name": "",
  "signature": "sha256:0cb2db586707f5d9b0bd6ed6bfa66d3a26a15f4927f3b8587689b1bafcfa6f1f"
 },
 "nbformat": 3,
 "nbformat_minor": 0,
 "worksheets": [
  {
   "cells": [
    {
     "cell_type": "heading",
     "level": 1,
     "metadata": {},
     "source": [
      "quant-econ Solutions: LLN and CLT"
     ]
    },
    {
     "cell_type": "markdown",
     "metadata": {},
     "source": [
      "Solutions for http://quant-econ.net/lln_clt.html"
     ]
    },
    {
     "cell_type": "code",
     "collapsed": false,
     "input": [
      "%matplotlib inline"
     ],
     "language": "python",
     "metadata": {},
     "outputs": [],
     "prompt_number": 1
    },
    {
     "cell_type": "markdown",
     "metadata": {},
     "source": [
      "Standard imports"
     ]
    },
    {
     "cell_type": "code",
     "collapsed": false,
     "input": [
      "import numpy as np\n",
      "import matplotlib.pyplot as plt"
     ],
     "language": "python",
     "metadata": {},
     "outputs": [],
     "prompt_number": 2
    },
    {
     "cell_type": "heading",
     "level": 2,
     "metadata": {},
     "source": [
      "Exercise 1"
     ]
    },
    {
     "cell_type": "markdown",
     "metadata": {},
     "source": [
      "Here is one solution\n",
      "\n",
      "You might have to modify or delete the lines starting with `rc`, depending on your configuration"
     ]
    },
    {
     "cell_type": "code",
     "collapsed": false,
     "input": [
      "\"\"\"\n",
      "Illustrates the delta method, a consequence of the central limit theorem.\n",
      "\"\"\"\n",
      "\n",
      "from scipy.stats import uniform, norm\n",
      "from matplotlib import rc\n",
      "\n",
      "# == Specifying font, needs LaTeX integration == #\n",
      "rc('font',**{'family':'serif','serif':['Palatino']})\n",
      "rc('text', usetex=True)\n",
      "\n",
      "# == Set parameters == #\n",
      "n = 250\n",
      "replications = 100000\n",
      "distribution = uniform(loc=0, scale=(np.pi / 2))\n",
      "mu, s = distribution.mean(), distribution.std()\n",
      "\n",
      "g = np.sin\n",
      "g_prime = np.cos\n",
      "\n",
      "# == Generate obs of sqrt{n} (g(\\bar X_n) - g(\\mu)) == #\n",
      "data = distribution.rvs((replications, n)) \n",
      "sample_means = data.mean(axis=1)  # Compute mean of each row\n",
      "error_obs = np.sqrt(n) * (g(sample_means) - g(mu))\n",
      "\n",
      "# == Plot == #\n",
      "asymptotic_sd = g_prime(mu) * s\n",
      "fig, ax = plt.subplots(figsize=(10, 6))\n",
      "xmin = -3 * g_prime(mu) * s\n",
      "xmax = -xmin\n",
      "ax.set_xlim(xmin, xmax)\n",
      "ax.hist(error_obs, bins=60, alpha=0.5, normed=True)\n",
      "xgrid = np.linspace(xmin, xmax, 200)\n",
      "lb = r\"$N(0, g'(\\mu)^2  \\sigma^2)$\"\n",
      "ax.plot(xgrid, norm.pdf(xgrid, scale=asymptotic_sd), 'k-', lw=2, label=lb)\n",
      "ax.legend()\n"
     ],
     "language": "python",
     "metadata": {},
     "outputs": [
      {
       "metadata": {},
       "output_type": "pyout",
       "prompt_number": 3,
       "text": [
        "<matplotlib.legend.Legend at 0x358c050>"
       ]
      },
      {
       "metadata": {},
       "output_type": "display_data",
       "png": "[encoded data removed]",
       "text": [
        "<matplotlib.figure.Figure at 0x2d26c10>"
       ]
      }
     ],
     "prompt_number": 3
    },
    {
     "cell_type": "markdown",
     "metadata": {},
     "source": [
      "What happens when you replace $[0, \\pi / 2]$ with $[0, \\pi]$?\n",
      "\n",
      "In this case, the mean $\\mu$ of this distribution is $\\pi/2$, and since $g' = \\cos$, we have $g'(\\mu) = 0$\n",
      "\n",
      "Hence the conditions of the delta theorem are not satisfied\n"
     ]
    },
    {
     "cell_type": "heading",
     "level": 2,
     "metadata": {},
     "source": [
      "Exercise 2"
     ]
    },
    {
     "cell_type": "markdown",
     "metadata": {},
     "source": [
      "First we want to verify the claim that\n",
      "\n",
      "$$\n",
      "    \\sqrt{n} \\mathbf Q ( \\bar{\\mathbf X}_n - \\boldsymbol \\mu )\n",
      "    \\stackrel{d}{\\to} \n",
      "    N(\\mathbf 0, \\mathbf I)\n",
      "$$\n",
      "\n",
      "This is straightforward given the facts presented in the exercise\n",
      "\n",
      "Let\n",
      "\n",
      "$$\n",
      "    \\mathbf Y_n := \\sqrt{n} ( \\bar{\\mathbf X}_n - \\boldsymbol \\mu )\n",
      "    \\quad \\text{and} \\quad\n",
      "    \\mathbf Y \\sim N(\\mathbf 0, \\Sigma)\n",
      "$$\n",
      "\n",
      "By the multivariate CLT and the continuous mapping theorem, we have\n",
      "\n",
      "$$\n",
      "    \\mathbf Q \\mathbf Y_n \n",
      "    \\stackrel{d}{\\to} \n",
      "    \\mathbf Q \\mathbf Y\n",
      "$$\n",
      "\n",
      "Since linear combinations of normal random variables are normal, the vector\n",
      "$\\mathbf Q \\mathbf Y$ is also normal\n",
      "\n",
      "Its mean is clearly $\\mathbf 0$, and its variance covariance matrix is\n",
      "\n",
      "$$\n",
      "    \\mathrm{Var}[\\mathbf Q \\mathbf Y]\n",
      "    = \\mathbf Q \\mathrm{Var}[\\mathbf Y] \\mathbf Q'\n",
      "    = \\mathbf Q \\Sigma \\mathbf Q'\n",
      "    = \\mathbf I\n",
      "$$\n",
      "\n",
      "In conclusion, $\\mathbf Q \\mathbf Y_n \\stackrel{d}{\\to} \\mathbf Q \\mathbf Y \\sim N(\\mathbf 0, \\mathbf I)$, which is what we aimed to show\n",
      "\n",
      "Now we turn to the simulation exercise\n",
      "\n",
      "Our solution is as follows\n"
     ]
    },
    {
     "cell_type": "code",
     "collapsed": false,
     "input": [
      "\n",
      "from scipy.stats import uniform, chi2\n",
      "from scipy.linalg import inv, sqrtm\n",
      "\n",
      "# == Set parameters == #\n",
      "n = 250\n",
      "replications = 50000\n",
      "dw = uniform(loc=-1, scale=2)  # Uniform(-1, 1)\n",
      "du = uniform(loc=-2, scale=4)  # Uniform(-2, 2)\n",
      "sw, su = dw.std(), du.std()\n",
      "vw, vu = sw**2, su**2\n",
      "Sigma = ((vw, vw), (vw, vw + vu))\n",
      "Sigma = np.array(Sigma)\n",
      "\n",
      "# == Compute Sigma^{-1/2} == #\n",
      "Q = inv(sqrtm(Sigma))  \n",
      "\n",
      "# == Generate observations of the normalized sample mean == #\n",
      "error_obs = np.empty((2, replications))\n",
      "for i in range(replications):\n",
      "    # == Generate one sequence of bivariate shocks == #\n",
      "    X = np.empty((2, n))\n",
      "    W = dw.rvs(n)\n",
      "    U = du.rvs(n)\n",
      "    # == Construct the n observations of the random vector == #\n",
      "    X[0, :] = W\n",
      "    X[1, :] = W + U\n",
      "    # == Construct the i-th observation of Y_n == #\n",
      "    error_obs[:, i] = np.sqrt(n) * X.mean(axis=1)\n",
      "\n",
      "# == Premultiply by Q and then take the squared norm == #\n",
      "temp = np.dot(Q, error_obs)\n",
      "chisq_obs = np.sum(temp**2, axis=0)\n",
      "\n",
      "# == Plot == #\n",
      "fig, ax = plt.subplots(figsize=(10, 6))\n",
      "xmax = 8\n",
      "ax.set_xlim(0, xmax)\n",
      "xgrid = np.linspace(0, xmax, 200)\n",
      "lb = \"Chi-squared with 2 degrees of freedom\"\n",
      "ax.plot(xgrid, chi2.pdf(xgrid, 2), 'k-', lw=2, label=lb)\n",
      "ax.legend()\n",
      "ax.hist(chisq_obs, bins=50, normed=True)\n",
      "plt.show()\n"
     ],
     "language": "python",
     "metadata": {},
     "outputs": [
      {
       "metadata": {},
       "output_type": "display_data",
       "png": "[encoded data removed]",
       "text": [
        "<matplotlib.figure.Figure at 0x384a590>"
       ]
      }
     ],
     "prompt_number": 4
    },
    {
     "cell_type": "code",
     "collapsed": false,
     "input": [],
     "language": "python",
     "metadata": {},
     "outputs": []
    }
   ],
   "metadata": {}
  }
 ]
}