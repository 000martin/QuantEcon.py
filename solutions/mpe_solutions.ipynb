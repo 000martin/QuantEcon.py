{
 "metadata": {
  "name": "",
  "signature": "sha256:8992c4a6c8d2ac32c75d9574992cea758c745ef9f214c8534a76e4ac19a14f9c"
 },
 "nbformat": 3,
 "nbformat_minor": 0,
 "worksheets": [
  {
   "cells": [
    {
     "cell_type": "heading",
     "level": 1,
     "metadata": {},
     "source": [
      "quant-econ Solutions: Markov Perfect Equilibria"
     ]
    },
    {
     "cell_type": "markdown",
     "metadata": {},
     "source": [
      "Solutions for http://quant-econ.net/py/markov_perf.html"
     ]
    },
    {
     "cell_type": "markdown",
     "metadata": {},
     "source": [
      "We begin with some standard imports"
     ]
    },
    {
     "cell_type": "code",
     "collapsed": false,
     "input": [
      "import numpy as np\n",
      "import quantecon as qe\n",
      "import matplotlib.pyplot as plt\n",
      "from numpy import dot"
     ],
     "language": "python",
     "metadata": {},
     "outputs": [],
     "prompt_number": 28
    },
    {
     "cell_type": "code",
     "collapsed": false,
     "input": [
      "%matplotlib inline"
     ],
     "language": "python",
     "metadata": {},
     "outputs": [],
     "prompt_number": 29
    },
    {
     "cell_type": "heading",
     "level": 3,
     "metadata": {},
     "source": [
      "Exercise 1"
     ]
    },
    {
     "cell_type": "markdown",
     "metadata": {},
     "source": [
      "We treat the case $\\delta = 0.02$\n",
      "\n"
     ]
    },
    {
     "cell_type": "code",
     "collapsed": false,
     "input": [
      "delta   = 0.02\n",
      "D       = np.array([[-1, 0.5], [0.5, -1]])\n",
      "b       = np.array([25, 25])\n",
      "c1 = c2 = np.array([1, -2, 1])\n",
      "e1 = e2 = np.array([10, 10, 3])\n",
      "\n",
      "delta_1 = 1 - delta"
     ],
     "language": "python",
     "metadata": {},
     "outputs": []
    },
    {
     "cell_type": "markdown",
     "metadata": {},
     "source": [
      "Recalling that the control and state are\n",
      "\n",
      "$$\n",
      "    u_{it} =\n",
      "    \\begin{bmatrix} \n",
      "        p_{it} \\\\\n",
      "        q_{it} \n",
      "    \\end{bmatrix}\n",
      "    \\quad \\text{and} \\quad\n",
      "    x_t =\n",
      "    \\begin{bmatrix}\n",
      "        I_{1t} \\\\\n",
      "        I_{2t} \\\\\n",
      "        1\n",
      "    \\end{bmatrix}\n",
      "$$\n",
      "\n",
      "we set up the matrices as follows:"
     ]
    },
    {
     "cell_type": "code",
     "collapsed": false,
     "input": [
      "# ==  Create matrices needed to compute the Nash feedback equilibrium == #\n",
      "\n",
      "A = np.array([[delta_1, 0, -delta_1*b[0]],\n",
      "              [0, delta_1, -delta_1*b[1]],\n",
      "              [0, 0, 1]])\n",
      "\n",
      "B1 = delta_1 * np.array([[1, -D[0, 0]],\n",
      "                        [0, -D[1, 0]],\n",
      "                        [0, 0]])\n",
      "B2 = delta_1 * np.array([[0, -D[0, 1]],\n",
      "                        [1, -D[1, 1]],\n",
      "                        [0, 0]])\n",
      "\n",
      "R1 = -np.array([[0.5*c1[2], 0, 0.5*c1[1]],\n",
      "               [0, 0, 0],\n",
      "               [0.5*c1[1], 0, c1[0]]])\n",
      "R2 = -np.array([[0, 0, 0],\n",
      "               [0, 0.5*c2[2], 0.5*c2[1]],\n",
      "               [0, 0.5*c2[1], c2[0]]])\n",
      "\n",
      "Q1 = np.array([[-0.5*e1[2], 0], [0, D[0, 0]]])\n",
      "Q2 = np.array([[-0.5*e2[2], 0], [0, D[1, 1]]])\n",
      "\n",
      "S1 = np.zeros((2, 2))\n",
      "S2 = np.copy(S1)\n",
      "\n",
      "W1 = np.array([[0, 0],\n",
      "              [0, 0],\n",
      "              [-0.5*e1[1], b[0]/2.]])\n",
      "W2 = np.array([[0, 0],\n",
      "              [0, 0],\n",
      "              [-0.5*e2[1], b[1]/2.]])\n",
      "\n",
      "M1 = np.array([[0, 0], [0, D[0, 1] / 2.]])\n",
      "M2 = np.copy(M1)"
     ],
     "language": "python",
     "metadata": {},
     "outputs": []
    },
    {
     "cell_type": "markdown",
     "metadata": {},
     "source": [
      "We can now compute the equilibrium using `qe.nnash`"
     ]
    },
    {
     "cell_type": "code",
     "collapsed": false,
     "input": [
      "F1, F2, P1, P2 = qe.nnash(A, B1, B2, R1, R2, Q1, Q2, S1, S2, W1, W2, M1, M2)\n",
      "\n",
      "print(\"\\nFirm 1's feedback rule:\\n\")\n",
      "print(F1)\n",
      "\n",
      "print(\"\\nFirm 2's feedback rule:\\n\")\n",
      "print(F2)"
     ],
     "language": "python",
     "metadata": {},
     "outputs": [
      {
       "output_type": "stream",
       "stream": "stdout",
       "text": [
        "\n",
        "Firm 1's feedback rule:\n",
        "\n",
        "[[  2.43666582e-01   2.72360627e-02  -6.82788293e+00]\n",
        " [  3.92370734e-01   1.39696451e-01  -3.77341073e+01]]\n",
        "\n",
        "Firm 2's feedback rule:\n",
        "\n",
        "[[  2.72360627e-02   2.43666582e-01  -6.82788293e+00]\n",
        " [  1.39696451e-01   3.92370734e-01  -3.77341073e+01]]\n"
       ]
      }
     ],
     "prompt_number": 22
    },
    {
     "cell_type": "markdown",
     "metadata": {},
     "source": [
      "Now let's look at the dynamics of inventories, and reproduce the graph corresponding to $\\delta = 0.02$"
     ]
    },
    {
     "cell_type": "code",
     "collapsed": false,
     "input": [
      "AF = A - B1.dot(F1) - B2.dot(F2)\n",
      "n = 25\n",
      "x = np.empty((3, n))\n",
      "x[:, 0] = 2, 0, 1\n",
      "for t in range(n-1):\n",
      "    x[:, t+1] = np.dot(AF, x[:, t])\n",
      "I1 = x[0, :]\n",
      "I2 = x[1, :]\n",
      "fig, ax = plt.subplots(figsize=(9, 5))\n",
      "ax.plot(I1, 'b-', lw=2, alpha=0.75, label='inventories, firm 1')\n",
      "ax.plot(I2, 'g-', lw=2, alpha=0.75, label='inventories, firm 2')\n",
      "ax.set_title(r'$\\delta = {}$'.format(delta))\n",
      "ax.legend()"
     ],
     "language": "python",
     "metadata": {},
     "outputs": [
      {
       "metadata": {},
       "output_type": "pyout",
       "prompt_number": 31,
       "text": [
        "<matplotlib.legend.Legend at 0x7f92b0aa7790>"
       ]
      },
      {
       "metadata": {},
       "output_type": "display_data",
       "png": "[encoded data removed]",
       "text": [
        "<matplotlib.figure.Figure at 0x7f92b0c5dd50>"
       ]
      }
     ],
     "prompt_number": 31
    },
    {
     "cell_type": "code",
     "collapsed": false,
     "input": [],
     "language": "python",
     "metadata": {},
     "outputs": []
    }
   ],
   "metadata": {}
  }
 ]
}