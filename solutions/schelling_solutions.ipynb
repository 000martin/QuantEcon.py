{
 "metadata": {
  "name": "",
  "signature": "sha256:9a36ea19470e49a542a48339e056db4fb3c2ce0d3f301ff2eab8dddb31ac2604"
 },
 "nbformat": 3,
 "nbformat_minor": 0,
 "worksheets": [
  {
   "cells": [
    {
     "cell_type": "heading",
     "level": 1,
     "metadata": {},
     "source": [
      "quant-econ Solutions: Schelling's Segregation Model"
     ]
    },
    {
     "cell_type": "markdown",
     "metadata": {},
     "source": [
      "Solutions for http://quant-econ.net/schelling.html"
     ]
    },
    {
     "cell_type": "heading",
     "level": 2,
     "metadata": {},
     "source": [
      "Exercise 1"
     ]
    },
    {
     "cell_type": "markdown",
     "metadata": {},
     "source": [
      "A solution from the [quantecon library](https://github.com/jstac/quant-econ/tree/master/quantecon)  can be found [here](https://github.com/jstac/quant-econ/blob/master/quantecon/schelling.py)\n"
     ]
    },
    {
     "cell_type": "code",
     "collapsed": false,
     "input": [],
     "language": "python",
     "metadata": {},
     "outputs": []
    }
   ],
   "metadata": {}
  }
 ]
}