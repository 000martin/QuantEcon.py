{
 "metadata": {
  "name": "",
  "signature": "sha256:8dc2de9a3f84a6897a43c21a317a523ffb91ed8842a17b720ead3ab595bf8119"
 },
 "nbformat": 3,
 "nbformat_minor": 0,
 "worksheets": [
  {
   "cells": [
    {
     "cell_type": "heading",
     "level": 1,
     "metadata": {},
     "source": [
      "quant-econ Solutions: More Language Features"
     ]
    },
    {
     "cell_type": "markdown",
     "metadata": {},
     "source": [
      "Solutions for http://quant-econ.net/python_advanced_features.html"
     ]
    },
    {
     "cell_type": "heading",
     "level": 2,
     "metadata": {},
     "source": [
      "Exercise 1"
     ]
    },
    {
     "cell_type": "markdown",
     "metadata": {},
     "source": [
      "Here's the standard solution"
     ]
    },
    {
     "cell_type": "code",
     "collapsed": false,
     "input": [
      "def x(t):\n",
      "    if t == 0:\n",
      "        return 0\n",
      "    if t == 1:\n",
      "        return 1\n",
      "    else:\n",
      "        return x(t-1) + x(t-2)\n"
     ],
     "language": "python",
     "metadata": {},
     "outputs": [],
     "prompt_number": 9
    },
    {
     "cell_type": "markdown",
     "metadata": {},
     "source": [
      "Let's test it"
     ]
    },
    {
     "cell_type": "code",
     "collapsed": false,
     "input": [
      "print [x(i) for i in range(10)]"
     ],
     "language": "python",
     "metadata": {},
     "outputs": [
      {
       "output_type": "stream",
       "stream": "stdout",
       "text": [
        "[0, 1, 1, 2, 3, 5, 8, 13, 21, 34]\n"
       ]
      }
     ],
     "prompt_number": 11
    },
    {
     "cell_type": "heading",
     "level": 2,
     "metadata": {},
     "source": [
      "Exercise 2"
     ]
    },
    {
     "cell_type": "markdown",
     "metadata": {},
     "source": [
      "One solution is as follows"
     ]
    },
    {
     "cell_type": "code",
     "collapsed": false,
     "input": [
      "def column_iterator(target_file, column_number):\n",
      "    \"\"\"A generator function for CSV files.\n",
      "    When called with a file name target_file (string) and column number \n",
      "    column_number (integer), the generator function returns a generator \n",
      "    which steps through the elements of column column_number in file\n",
      "    target_file.\n",
      "    \"\"\"\n",
      "    f = open(target_file, 'r')\n",
      "    for line in f:\n",
      "        yield line.split(',')[column_number - 1]\n",
      "    f.close()\n",
      "\n",
      "dates = column_iterator('test_table.csv', 1) \n",
      "\n",
      "i = 1\n",
      "for date in dates:\n",
      "    print date\n",
      "    if i == 10:\n",
      "        break\n",
      "    i += 1"
     ],
     "language": "python",
     "metadata": {},
     "outputs": [
      {
       "output_type": "stream",
       "stream": "stdout",
       "text": [
        "Date\n",
        "2009-05-21\n",
        "2009-05-20\n",
        "2009-05-19\n",
        "2009-05-18\n",
        "2009-05-15\n",
        "2009-05-14\n",
        "2009-05-13\n",
        "2009-05-12\n",
        "2009-05-11\n"
       ]
      }
     ],
     "prompt_number": 4
    },
    {
     "cell_type": "heading",
     "level": 2,
     "metadata": {},
     "source": [
      "Exercise 3"
     ]
    },
    {
     "cell_type": "markdown",
     "metadata": {},
     "source": [
      "Let's save the data first"
     ]
    },
    {
     "cell_type": "code",
     "collapsed": false,
     "input": [
      "%%file numbers.txt\n",
      "prices\n",
      "3\n",
      "8\n",
      "\n",
      "7\n",
      "21"
     ],
     "language": "python",
     "metadata": {},
     "outputs": [
      {
       "output_type": "stream",
       "stream": "stdout",
       "text": [
        "Writing numbers.txt\n"
       ]
      }
     ],
     "prompt_number": 6
    },
    {
     "cell_type": "code",
     "collapsed": false,
     "input": [
      "f = open('numbers.txt')\n",
      "\n",
      "total = 0.0 \n",
      "for line in f:\n",
      "    try:\n",
      "        total += float(line)\n",
      "    except ValueError:\n",
      "        pass\n",
      "\n",
      "f.close()\n",
      "\n",
      "print total\n"
     ],
     "language": "python",
     "metadata": {},
     "outputs": [
      {
       "output_type": "stream",
       "stream": "stdout",
       "text": [
        "39.0\n"
       ]
      }
     ],
     "prompt_number": 7
    },
    {
     "cell_type": "code",
     "collapsed": false,
     "input": [],
     "language": "python",
     "metadata": {},
     "outputs": []
    }
   ],
   "metadata": {}
  }
 ]
}